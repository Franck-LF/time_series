{
 "cells": [
  {
   "cell_type": "markdown",
   "metadata": {},
   "source": [
    "# <center> **Autoencoders**"
   ]
  },
  {
   "cell_type": "markdown",
   "metadata": {},
   "source": [
    "**Sources** : [Encoder_ressources_Bertrand.pdf](Encoder_ressources.pdf)<br>\n",
    "\n",
    "https://machinelearningmastery.com/lstm-autoencoders/<br>\n",
    "https://medium.com/towards-data-science/step-by-step-understanding-lstm-autoencoder-layers-ffab055b6352<br>\n",
    "https://bobrupakroy.medium.com/lstm-autoencoders-a45a04667346<br>\n",
    "https://www.datacamp.com/fr/tutorial/introduction-to-autoencoders<br>\n",
    "<br>\n",
    "\n",
    "Les modèles **Autoencodeurs** peuvent servir de méthodes de réduction de dimensions non linéaires (de type t-SNE ...).<br>\n",
    "\n",
    "**Encodeur**<br>\n",
    "La partie encodeur comprime les données d'entrées pour éliminer toute forme de bruit et génère un **espace latent**, sa dimension est un hyper-paramètre qui détermine le niveau de perte de la \"compression\".\n",
    "\n",
    "**Décodeur**<br>\n",
    "Il tente de reconstruire les données d'entrée originales en utilisant uniquement la représentation comprimée des données de l'espace latent, on estime la qualité du modèle en calculant l'erreur de reconstruction à l'aide d'une fonction de perte.\n",
    "\n",
    "Différents types d'autoencodeurs : (incomplet, clairsemé, contractuel, convolutif, variationnel [source](https://www.datacamp.com/fr/tutorial/introduction-to-autoencoders))<br>\n",
    "\n",
    "**VAE**<br>\n",
    "Dans tous les autoencodeurs précédents, le codeur fournit une seule valeur pour chaque dimension. Les **VAE** rendent ce processus probabiliste en créant une distribution de probabilité pour chaque dimension. Application pour des tâches génératives."
   ]
  },
  {
   "cell_type": "markdown",
   "metadata": {},
   "source": [
    "## **Imports**"
   ]
  },
  {
   "cell_type": "code",
   "execution_count": 72,
   "metadata": {},
   "outputs": [],
   "source": [
    "%reset"
   ]
  },
  {
   "cell_type": "code",
   "execution_count": 79,
   "metadata": {},
   "outputs": [],
   "source": [
    "import os\n",
    "import cv2\n",
    "import PIL\n",
    "import math\n",
    "import script # my tools\n",
    "import itertools\n",
    "import numpy as np\n",
    "import pandas as pd\n",
    "import mediapipe as mp\n",
    "import matplotlib.pyplot as plt\n",
    "from numpy import array\n",
    "\n",
    "# Scipy\n",
    "from scipy import stats\n",
    "from scipy.fftpack import fft, ifft\n",
    "from scipy.stats import kruskal\n",
    "\n",
    "# Scikit-Learn\n",
    "from sklearn.metrics import mean_absolute_percentage_error\n",
    "from sklearn.metrics import mean_absolute_error\n",
    "from sklearn.metrics import root_mean_squared_error\n",
    "\n",
    "# statsmodels\n",
    "from statsmodels.tsa.stattools import adfuller\n",
    "from statsmodels.tsa.arima.model import ARIMA\n",
    "from statsmodels.tsa.statespace.sarimax import SARIMAX\n",
    "from statsmodels.graphics.tsaplots import plot_acf, plot_pacf\n",
    "from statsmodels.tsa.stattools import acf\n",
    "from statsmodels.tsa.seasonal import seasonal_decompose\n",
    "\n",
    "# Keras\n",
    "from keras.models import Model, Sequential\n",
    "from keras.layers import LSTM, Input, Dense\n",
    "from keras.layers import RepeatVector\n",
    "from keras.layers import TimeDistributed\n",
    "\n",
    "# Path of the video\n",
    "video_path = \"videos/seq_a.mov\"\n",
    "\n",
    "video_folder = \"videos\\\\\"\n",
    "video_name = \"seq_a.mov\"\n",
    "# video_name = \"seq_b.mov\"\n",
    "# video_name = \"seq_tractions.mov\"\n",
    "# video_name = \"seq_multi_exos.mov\"\n",
    "\n",
    "frame_reps_file_name = 'frame_reps_' + video_name[:-4] + '.npy'\n",
    "landmarks_file_name  = 'landmarks_' + video_name[:-4]  + '.csv'"
   ]
  },
  {
   "cell_type": "markdown",
   "metadata": {},
   "source": [
    "## **First Autoencoder**"
   ]
  },
  {
   "cell_type": "markdown",
   "metadata": {},
   "source": [
    "https://bobrupakroy.medium.com/lstm-autoencoders-a45a04667346"
   ]
  },
  {
   "cell_type": "code",
   "execution_count": null,
   "metadata": {},
   "outputs": [
    {
     "data": {
      "text/html": [
       "<pre style=\"white-space:pre;overflow-x:auto;line-height:normal;font-family:Menlo,'DejaVu Sans Mono',consolas,'Courier New',monospace\"><span style=\"font-weight: bold\">Model: \"sequential_3\"</span>\n",
       "</pre>\n"
      ],
      "text/plain": [
       "\u001b[1mModel: \"sequential_3\"\u001b[0m\n"
      ]
     },
     "metadata": {},
     "output_type": "display_data"
    },
    {
     "data": {
      "text/html": [
       "<pre style=\"white-space:pre;overflow-x:auto;line-height:normal;font-family:Menlo,'DejaVu Sans Mono',consolas,'Courier New',monospace\">┏━━━━━━━━━━━━━━━━━━━━━━━━━━━━━━━━━┳━━━━━━━━━━━━━━━━━━━━━━━━┳━━━━━━━━━━━━━━━┓\n",
       "┃<span style=\"font-weight: bold\"> Layer (type)                    </span>┃<span style=\"font-weight: bold\"> Output Shape           </span>┃<span style=\"font-weight: bold\">       Param # </span>┃\n",
       "┡━━━━━━━━━━━━━━━━━━━━━━━━━━━━━━━━━╇━━━━━━━━━━━━━━━━━━━━━━━━╇━━━━━━━━━━━━━━━┩\n",
       "│ lstm_6 (<span style=\"color: #0087ff; text-decoration-color: #0087ff\">LSTM</span>)                   │ (<span style=\"color: #00d7ff; text-decoration-color: #00d7ff\">None</span>, <span style=\"color: #00af00; text-decoration-color: #00af00\">100</span>)            │        <span style=\"color: #00af00; text-decoration-color: #00af00\">40,800</span> │\n",
       "├─────────────────────────────────┼────────────────────────┼───────────────┤\n",
       "│ repeat_vector_3 (<span style=\"color: #0087ff; text-decoration-color: #0087ff\">RepeatVector</span>)  │ (<span style=\"color: #00d7ff; text-decoration-color: #00d7ff\">None</span>, <span style=\"color: #00af00; text-decoration-color: #00af00\">9</span>, <span style=\"color: #00af00; text-decoration-color: #00af00\">100</span>)         │             <span style=\"color: #00af00; text-decoration-color: #00af00\">0</span> │\n",
       "├─────────────────────────────────┼────────────────────────┼───────────────┤\n",
       "│ lstm_7 (<span style=\"color: #0087ff; text-decoration-color: #0087ff\">LSTM</span>)                   │ (<span style=\"color: #00d7ff; text-decoration-color: #00d7ff\">None</span>, <span style=\"color: #00af00; text-decoration-color: #00af00\">9</span>, <span style=\"color: #00af00; text-decoration-color: #00af00\">100</span>)         │        <span style=\"color: #00af00; text-decoration-color: #00af00\">80,400</span> │\n",
       "├─────────────────────────────────┼────────────────────────┼───────────────┤\n",
       "│ time_distributed_3              │ (<span style=\"color: #00d7ff; text-decoration-color: #00d7ff\">None</span>, <span style=\"color: #00af00; text-decoration-color: #00af00\">9</span>, <span style=\"color: #00af00; text-decoration-color: #00af00\">1</span>)           │           <span style=\"color: #00af00; text-decoration-color: #00af00\">101</span> │\n",
       "│ (<span style=\"color: #0087ff; text-decoration-color: #0087ff\">TimeDistributed</span>)               │                        │               │\n",
       "└─────────────────────────────────┴────────────────────────┴───────────────┘\n",
       "</pre>\n"
      ],
      "text/plain": [
       "┏━━━━━━━━━━━━━━━━━━━━━━━━━━━━━━━━━┳━━━━━━━━━━━━━━━━━━━━━━━━┳━━━━━━━━━━━━━━━┓\n",
       "┃\u001b[1m \u001b[0m\u001b[1mLayer (type)                   \u001b[0m\u001b[1m \u001b[0m┃\u001b[1m \u001b[0m\u001b[1mOutput Shape          \u001b[0m\u001b[1m \u001b[0m┃\u001b[1m \u001b[0m\u001b[1m      Param #\u001b[0m\u001b[1m \u001b[0m┃\n",
       "┡━━━━━━━━━━━━━━━━━━━━━━━━━━━━━━━━━╇━━━━━━━━━━━━━━━━━━━━━━━━╇━━━━━━━━━━━━━━━┩\n",
       "│ lstm_6 (\u001b[38;5;33mLSTM\u001b[0m)                   │ (\u001b[38;5;45mNone\u001b[0m, \u001b[38;5;34m100\u001b[0m)            │        \u001b[38;5;34m40,800\u001b[0m │\n",
       "├─────────────────────────────────┼────────────────────────┼───────────────┤\n",
       "│ repeat_vector_3 (\u001b[38;5;33mRepeatVector\u001b[0m)  │ (\u001b[38;5;45mNone\u001b[0m, \u001b[38;5;34m9\u001b[0m, \u001b[38;5;34m100\u001b[0m)         │             \u001b[38;5;34m0\u001b[0m │\n",
       "├─────────────────────────────────┼────────────────────────┼───────────────┤\n",
       "│ lstm_7 (\u001b[38;5;33mLSTM\u001b[0m)                   │ (\u001b[38;5;45mNone\u001b[0m, \u001b[38;5;34m9\u001b[0m, \u001b[38;5;34m100\u001b[0m)         │        \u001b[38;5;34m80,400\u001b[0m │\n",
       "├─────────────────────────────────┼────────────────────────┼───────────────┤\n",
       "│ time_distributed_3              │ (\u001b[38;5;45mNone\u001b[0m, \u001b[38;5;34m9\u001b[0m, \u001b[38;5;34m1\u001b[0m)           │           \u001b[38;5;34m101\u001b[0m │\n",
       "│ (\u001b[38;5;33mTimeDistributed\u001b[0m)               │                        │               │\n",
       "└─────────────────────────────────┴────────────────────────┴───────────────┘\n"
      ]
     },
     "metadata": {},
     "output_type": "display_data"
    },
    {
     "data": {
      "text/html": [
       "<pre style=\"white-space:pre;overflow-x:auto;line-height:normal;font-family:Menlo,'DejaVu Sans Mono',consolas,'Courier New',monospace\"><span style=\"font-weight: bold\"> Total params: </span><span style=\"color: #00af00; text-decoration-color: #00af00\">121,301</span> (473.83 KB)\n",
       "</pre>\n"
      ],
      "text/plain": [
       "\u001b[1m Total params: \u001b[0m\u001b[38;5;34m121,301\u001b[0m (473.83 KB)\n"
      ]
     },
     "metadata": {},
     "output_type": "display_data"
    },
    {
     "data": {
      "text/html": [
       "<pre style=\"white-space:pre;overflow-x:auto;line-height:normal;font-family:Menlo,'DejaVu Sans Mono',consolas,'Courier New',monospace\"><span style=\"font-weight: bold\"> Trainable params: </span><span style=\"color: #00af00; text-decoration-color: #00af00\">121,301</span> (473.83 KB)\n",
       "</pre>\n"
      ],
      "text/plain": [
       "\u001b[1m Trainable params: \u001b[0m\u001b[38;5;34m121,301\u001b[0m (473.83 KB)\n"
      ]
     },
     "metadata": {},
     "output_type": "display_data"
    },
    {
     "data": {
      "text/html": [
       "<pre style=\"white-space:pre;overflow-x:auto;line-height:normal;font-family:Menlo,'DejaVu Sans Mono',consolas,'Courier New',monospace\"><span style=\"font-weight: bold\"> Non-trainable params: </span><span style=\"color: #00af00; text-decoration-color: #00af00\">0</span> (0.00 B)\n",
       "</pre>\n"
      ],
      "text/plain": [
       "\u001b[1m Non-trainable params: \u001b[0m\u001b[38;5;34m0\u001b[0m (0.00 B)\n"
      ]
     },
     "metadata": {},
     "output_type": "display_data"
    }
   ],
   "source": [
    "#define input sequence\n",
    "sequence = array([0.1, 0.2, 0.3, 0.4, 0.5, 0.6, 0.7, 0.8, 0.9])\n",
    "#reshape input into [samples, timesteps, features]\n",
    "n_in = len(sequence) #i.e. 9\n",
    "sequence = sequence.reshape((1, n_in, 1))\n",
    "model = Sequential()\n",
    "model.add(LSTM(100, activation='relu', input_shape=(n_in, 1)))\n",
    "model.add(RepeatVector(n_in))\n",
    "\n",
    "#RepeatVector layer repeats the incoming inputs a specific number of time\n",
    "model.add(LSTM(100, activation='relu', return_sequences=True))\n",
    "model.add(TimeDistributed(Dense(1)))\n",
    "''' #This wrapper allows to apply a layer to every temporal slice of an input. '''\n",
    "\n",
    "model.summary()"
   ]
  },
  {
   "cell_type": "code",
   "execution_count": null,
   "metadata": {},
   "outputs": [],
   "source": [
    "model.compile(optimizer='adam', loss='mse')\n",
    "#fit model\n",
    "model.fit(sequence, sequence, epochs=300, verbose=1)\n",
    "#Reconstruct the input sequence\n",
    "p = model.predict(sequence, verbose=0)\n",
    "print(p[0,:,0])"
   ]
  },
  {
   "cell_type": "markdown",
   "metadata": {},
   "source": [
    "## **Autoencoders to count repetitions in a video**"
   ]
  },
  {
   "cell_type": "markdown",
   "metadata": {},
   "source": [
    "### **Data Process**"
   ]
  },
  {
   "cell_type": "markdown",
   "metadata": {},
   "source": [
    "**Read the landmarks from csv**"
   ]
  },
  {
   "cell_type": "code",
   "execution_count": 75,
   "metadata": {},
   "outputs": [
    {
     "name": "stdout",
     "output_type": "stream",
     "text": [
      "Read file with the landmarks: videos/landmarks_seq_a.csv\n"
     ]
    },
    {
     "data": {
      "text/html": [
       "<div>\n",
       "<style scoped>\n",
       "    .dataframe tbody tr th:only-of-type {\n",
       "        vertical-align: middle;\n",
       "    }\n",
       "\n",
       "    .dataframe tbody tr th {\n",
       "        vertical-align: top;\n",
       "    }\n",
       "\n",
       "    .dataframe thead th {\n",
       "        text-align: right;\n",
       "    }\n",
       "</style>\n",
       "<table border=\"1\" class=\"dataframe\">\n",
       "  <thead>\n",
       "    <tr style=\"text-align: right;\">\n",
       "      <th></th>\n",
       "      <th>frame_number</th>\n",
       "      <th>landmark_id</th>\n",
       "      <th>x</th>\n",
       "      <th>y</th>\n",
       "      <th>z</th>\n",
       "    </tr>\n",
       "  </thead>\n",
       "  <tbody>\n",
       "    <tr>\n",
       "      <th>0</th>\n",
       "      <td>0</td>\n",
       "      <td>NOSE</td>\n",
       "      <td>0.532603</td>\n",
       "      <td>0.036498</td>\n",
       "      <td>-0.475452</td>\n",
       "    </tr>\n",
       "    <tr>\n",
       "      <th>1</th>\n",
       "      <td>0</td>\n",
       "      <td>LEFT_EYE_INNER</td>\n",
       "      <td>0.536636</td>\n",
       "      <td>0.015176</td>\n",
       "      <td>-0.484939</td>\n",
       "    </tr>\n",
       "    <tr>\n",
       "      <th>2</th>\n",
       "      <td>0</td>\n",
       "      <td>LEFT_EYE</td>\n",
       "      <td>0.541239</td>\n",
       "      <td>0.014851</td>\n",
       "      <td>-0.484937</td>\n",
       "    </tr>\n",
       "    <tr>\n",
       "      <th>3</th>\n",
       "      <td>0</td>\n",
       "      <td>LEFT_EYE_OUTER</td>\n",
       "      <td>0.545789</td>\n",
       "      <td>0.014627</td>\n",
       "      <td>-0.485146</td>\n",
       "    </tr>\n",
       "    <tr>\n",
       "      <th>4</th>\n",
       "      <td>0</td>\n",
       "      <td>RIGHT_EYE_INNER</td>\n",
       "      <td>0.529450</td>\n",
       "      <td>0.017664</td>\n",
       "      <td>-0.458892</td>\n",
       "    </tr>\n",
       "    <tr>\n",
       "      <th>...</th>\n",
       "      <td>...</td>\n",
       "      <td>...</td>\n",
       "      <td>...</td>\n",
       "      <td>...</td>\n",
       "      <td>...</td>\n",
       "    </tr>\n",
       "    <tr>\n",
       "      <th>16495</th>\n",
       "      <td>499</td>\n",
       "      <td>RIGHT_ANKLE</td>\n",
       "      <td>0.601915</td>\n",
       "      <td>0.668691</td>\n",
       "      <td>0.120303</td>\n",
       "    </tr>\n",
       "    <tr>\n",
       "      <th>16496</th>\n",
       "      <td>499</td>\n",
       "      <td>LEFT_HEEL</td>\n",
       "      <td>0.665266</td>\n",
       "      <td>0.649924</td>\n",
       "      <td>0.067565</td>\n",
       "    </tr>\n",
       "    <tr>\n",
       "      <th>16497</th>\n",
       "      <td>499</td>\n",
       "      <td>RIGHT_HEEL</td>\n",
       "      <td>0.609263</td>\n",
       "      <td>0.628062</td>\n",
       "      <td>0.165659</td>\n",
       "    </tr>\n",
       "    <tr>\n",
       "      <th>16498</th>\n",
       "      <td>499</td>\n",
       "      <td>LEFT_FOOT_INDEX</td>\n",
       "      <td>0.698478</td>\n",
       "      <td>0.700875</td>\n",
       "      <td>0.135502</td>\n",
       "    </tr>\n",
       "    <tr>\n",
       "      <th>16499</th>\n",
       "      <td>499</td>\n",
       "      <td>RIGHT_FOOT_INDEX</td>\n",
       "      <td>0.639924</td>\n",
       "      <td>0.698119</td>\n",
       "      <td>0.225514</td>\n",
       "    </tr>\n",
       "  </tbody>\n",
       "</table>\n",
       "<p>16500 rows × 5 columns</p>\n",
       "</div>"
      ],
      "text/plain": [
       "       frame_number       landmark_id         x         y         z\n",
       "0                 0              NOSE  0.532603  0.036498 -0.475452\n",
       "1                 0    LEFT_EYE_INNER  0.536636  0.015176 -0.484939\n",
       "2                 0          LEFT_EYE  0.541239  0.014851 -0.484937\n",
       "3                 0    LEFT_EYE_OUTER  0.545789  0.014627 -0.485146\n",
       "4                 0   RIGHT_EYE_INNER  0.529450  0.017664 -0.458892\n",
       "...             ...               ...       ...       ...       ...\n",
       "16495           499       RIGHT_ANKLE  0.601915  0.668691  0.120303\n",
       "16496           499         LEFT_HEEL  0.665266  0.649924  0.067565\n",
       "16497           499        RIGHT_HEEL  0.609263  0.628062  0.165659\n",
       "16498           499   LEFT_FOOT_INDEX  0.698478  0.700875  0.135502\n",
       "16499           499  RIGHT_FOOT_INDEX  0.639924  0.698119  0.225514\n",
       "\n",
       "[16500 rows x 5 columns]"
      ]
     },
     "execution_count": 75,
     "metadata": {},
     "output_type": "execute_result"
    }
   ],
   "source": [
    "landmarks_file_name = 'landmarks_' + video_name[:-4] + '.csv'\n",
    "\n",
    "def get_landmarks_from_file(file_name):\n",
    "    if file_name in os.listdir(video_folder):\n",
    "        file_path = 'videos/' + landmarks_file_name\n",
    "        print(f'Read file with the landmarks: {file_path}')\n",
    "        return pd.read_csv(file_path, sep = ',')\n",
    "\n",
    "df_landmarks = get_landmarks_from_file(video_name)\n",
    "df_landmarks"
   ]
  },
  {
   "cell_type": "markdown",
   "metadata": {},
   "source": [
    "**keep only a few landmarks**"
   ]
  },
  {
   "cell_type": "code",
   "execution_count": 76,
   "metadata": {},
   "outputs": [
    {
     "name": "stdout",
     "output_type": "stream",
     "text": [
      "(9500, 5)\n"
     ]
    },
    {
     "data": {
      "text/html": [
       "<div>\n",
       "<style scoped>\n",
       "    .dataframe tbody tr th:only-of-type {\n",
       "        vertical-align: middle;\n",
       "    }\n",
       "\n",
       "    .dataframe tbody tr th {\n",
       "        vertical-align: top;\n",
       "    }\n",
       "\n",
       "    .dataframe thead th {\n",
       "        text-align: right;\n",
       "    }\n",
       "</style>\n",
       "<table border=\"1\" class=\"dataframe\">\n",
       "  <thead>\n",
       "    <tr style=\"text-align: right;\">\n",
       "      <th></th>\n",
       "      <th>frame_number</th>\n",
       "      <th>landmark_id</th>\n",
       "      <th>x</th>\n",
       "      <th>y</th>\n",
       "      <th>z</th>\n",
       "    </tr>\n",
       "  </thead>\n",
       "  <tbody>\n",
       "    <tr>\n",
       "      <th>27</th>\n",
       "      <td>0</td>\n",
       "      <td>LEFT_ANKLE</td>\n",
       "      <td>0.675630</td>\n",
       "      <td>0.646708</td>\n",
       "      <td>0.278460</td>\n",
       "    </tr>\n",
       "    <tr>\n",
       "      <th>13</th>\n",
       "      <td>0</td>\n",
       "      <td>LEFT_ELBOW</td>\n",
       "      <td>0.681807</td>\n",
       "      <td>0.313912</td>\n",
       "      <td>-0.441911</td>\n",
       "    </tr>\n",
       "    <tr>\n",
       "      <th>31</th>\n",
       "      <td>0</td>\n",
       "      <td>LEFT_FOOT_INDEX</td>\n",
       "      <td>0.706243</td>\n",
       "      <td>0.702106</td>\n",
       "      <td>0.368447</td>\n",
       "    </tr>\n",
       "    <tr>\n",
       "      <th>29</th>\n",
       "      <td>0</td>\n",
       "      <td>LEFT_HEEL</td>\n",
       "      <td>0.680110</td>\n",
       "      <td>0.612660</td>\n",
       "      <td>0.333385</td>\n",
       "    </tr>\n",
       "    <tr>\n",
       "      <th>23</th>\n",
       "      <td>0</td>\n",
       "      <td>LEFT_HIP</td>\n",
       "      <td>0.610198</td>\n",
       "      <td>0.417119</td>\n",
       "      <td>-0.082105</td>\n",
       "    </tr>\n",
       "    <tr>\n",
       "      <th>...</th>\n",
       "      <td>...</td>\n",
       "      <td>...</td>\n",
       "      <td>...</td>\n",
       "      <td>...</td>\n",
       "      <td>...</td>\n",
       "    </tr>\n",
       "    <tr>\n",
       "      <th>16491</th>\n",
       "      <td>499</td>\n",
       "      <td>RIGHT_HIP</td>\n",
       "      <td>0.578911</td>\n",
       "      <td>0.583835</td>\n",
       "      <td>0.055039</td>\n",
       "    </tr>\n",
       "    <tr>\n",
       "      <th>16487</th>\n",
       "      <td>499</td>\n",
       "      <td>RIGHT_INDEX</td>\n",
       "      <td>0.526342</td>\n",
       "      <td>0.648584</td>\n",
       "      <td>-0.256622</td>\n",
       "    </tr>\n",
       "    <tr>\n",
       "      <th>16493</th>\n",
       "      <td>499</td>\n",
       "      <td>RIGHT_KNEE</td>\n",
       "      <td>0.508986</td>\n",
       "      <td>0.724994</td>\n",
       "      <td>-0.287362</td>\n",
       "    </tr>\n",
       "    <tr>\n",
       "      <th>16479</th>\n",
       "      <td>499</td>\n",
       "      <td>RIGHT_SHOULDER</td>\n",
       "      <td>0.556983</td>\n",
       "      <td>0.252275</td>\n",
       "      <td>-0.077611</td>\n",
       "    </tr>\n",
       "    <tr>\n",
       "      <th>16483</th>\n",
       "      <td>499</td>\n",
       "      <td>RIGHT_WRIST</td>\n",
       "      <td>0.534889</td>\n",
       "      <td>0.597381</td>\n",
       "      <td>-0.193150</td>\n",
       "    </tr>\n",
       "  </tbody>\n",
       "</table>\n",
       "<p>9500 rows × 5 columns</p>\n",
       "</div>"
      ],
      "text/plain": [
       "       frame_number      landmark_id         x         y         z\n",
       "27                0       LEFT_ANKLE  0.675630  0.646708  0.278460\n",
       "13                0       LEFT_ELBOW  0.681807  0.313912 -0.441911\n",
       "31                0  LEFT_FOOT_INDEX  0.706243  0.702106  0.368447\n",
       "29                0        LEFT_HEEL  0.680110  0.612660  0.333385\n",
       "23                0         LEFT_HIP  0.610198  0.417119 -0.082105\n",
       "...             ...              ...       ...       ...       ...\n",
       "16491           499        RIGHT_HIP  0.578911  0.583835  0.055039\n",
       "16487           499      RIGHT_INDEX  0.526342  0.648584 -0.256622\n",
       "16493           499       RIGHT_KNEE  0.508986  0.724994 -0.287362\n",
       "16479           499   RIGHT_SHOULDER  0.556983  0.252275 -0.077611\n",
       "16483           499      RIGHT_WRIST  0.534889  0.597381 -0.193150\n",
       "\n",
       "[9500 rows x 5 columns]"
      ]
     },
     "execution_count": 76,
     "metadata": {},
     "output_type": "execute_result"
    }
   ],
   "source": [
    "landmarks_to_keep = ['LEFT_FOOT_INDEX', 'RIGHT_FOOT_INDEX', 'LEFT_SHOULDER', 'RIGHT_SHOULDER', 'LEFT_ELBOW', 'RIGHT_ELBOW',\n",
    "                     'LEFT_WRIST','RIGHT_WRIST', 'LEFT_INDEX', 'RIGHT_INDEX', 'LEFT_HIP', 'RIGHT_HIP',\n",
    "                     'LEFT_KNEE', 'RIGHT_KNEE', 'LEFT_ANKLE', 'RIGHT_ANKLE', 'LEFT_HEEL', 'RIGHT_HEEL', 'NOSE']\n",
    "landmarks_to_keep.sort()\n",
    "\n",
    "df_19 = df_landmarks[df_landmarks['landmark_id'].isin(landmarks_to_keep)]\n",
    "df_19 = df_19.sort_values(by = ['frame_number', 'landmark_id'])\n",
    "print(df_19.shape)\n",
    "df_19"
   ]
  },
  {
   "cell_type": "markdown",
   "metadata": {},
   "source": [
    "**Create Input tensor**"
   ]
  },
  {
   "cell_type": "code",
   "execution_count": 77,
   "metadata": {},
   "outputs": [
    {
     "name": "stdout",
     "output_type": "stream",
     "text": [
      "window size:\t 50\n",
      "nb landmarks:\t 19\n",
      "nb frames:\t 500\n",
      "nb sequences:\t 451\n",
      "nb features:\t 57\n",
      "\n",
      "array shape (451, 50, 57)\n"
     ]
    }
   ],
   "source": [
    "window_size  = 50\n",
    "nb_landmarks = len(landmarks_to_keep)\n",
    "nb_frames    = df_19.shape[0] // nb_landmarks\n",
    "nb_sequences = nb_frames - window_size + 1\n",
    "nb_features   = 3 * nb_landmarks\n",
    "\n",
    "print('window size:\\t', window_size)\n",
    "print('nb landmarks:\\t', nb_landmarks)\n",
    "print('nb frames:\\t', nb_frames)\n",
    "print('nb sequences:\\t', nb_sequences)\n",
    "print('nb features:\\t', nb_features)\n",
    "\n",
    "# Fill in array with coordinates.\n",
    "X = np.zeros(shape = (nb_sequences, window_size, nb_features))\n",
    "\n",
    "for i in range(451):\n",
    "    start  =  nb_landmarks * i\n",
    "    stop   =  start + nb_landmarks * window_size\n",
    "    X[i]   =  df_19[start:stop][['x', 'y', 'z']].values.reshape((window_size, nb_features))\n",
    "\n",
    "print(\"\\narray shape\", X.shape)"
   ]
  },
  {
   "cell_type": "markdown",
   "metadata": {},
   "source": [
    "**Create Autoencoder**"
   ]
  },
  {
   "cell_type": "code",
   "execution_count": null,
   "metadata": {},
   "outputs": [],
   "source": [
    "from keras import Input, Model\n",
    "\n",
    "data_shape = X.shape\n",
    "print(\"\\narray shape\", X.shape)\n",
    "\n",
    "model = Sequential()\n",
    "model.add(LSTM(128, activation='relu', input_shape=(X.shape[1], X.shape[2]), return_sequences=True))\n",
    "model.add(LSTM(64, activation='relu', return_sequences=False))\n",
    "model.add(RepeatVector(X.shape[1]))\n",
    "model.add(LSTM(64, activation='relu', return_sequences=True))\n",
    "model.add(LSTM(128, activation='relu', return_sequences=True))\n",
    "model.add(TimeDistributed(Dense(X.shape[2])))\n",
    "model.compile(optimizer='adam', loss='mse')\n",
    "model.summary()\n",
    "\n",
    "model.compile(optimizer='adam', loss='mse')\n",
    "history = model.fit(X, X, epochs=30, verbose=1)"
   ]
  },
  {
   "cell_type": "code",
   "execution_count": 71,
   "metadata": {},
   "outputs": [
    {
     "data": {
      "image/png": "[encoded data removed]",
      "text/plain": [
       "<Figure size 640x480 with 1 Axes>"
      ]
     },
     "metadata": {},
     "output_type": "display_data"
    }
   ],
   "source": [
    "plt.plot(history.history['loss'])\n",
    "plt.show()"
   ]
  },
  {
   "cell_type": "markdown",
   "metadata": {},
   "source": [
    "**Ca fonctionne mais on veut séparer la partie encodeur et la partie décodeur**"
   ]
  },
  {
   "cell_type": "code",
   "execution_count": null,
   "metadata": {},
   "outputs": [
    {
     "data": {
      "text/html": [
       "<pre style=\"white-space:pre;overflow-x:auto;line-height:normal;font-family:Menlo,'DejaVu Sans Mono',consolas,'Courier New',monospace\"><span style=\"font-weight: bold\">Model: \"encoder_before_training\"</span>\n",
       "</pre>\n"
      ],
      "text/plain": [
       "\u001b[1mModel: \"encoder_before_training\"\u001b[0m\n"
      ]
     },
     "metadata": {},
     "output_type": "display_data"
    },
    {
     "data": {
      "text/html": [
       "<pre style=\"white-space:pre;overflow-x:auto;line-height:normal;font-family:Menlo,'DejaVu Sans Mono',consolas,'Courier New',monospace\">┏━━━━━━━━━━━━━━━━━━━━━━━━━━━━━━━━━┳━━━━━━━━━━━━━━━━━━━━━━━━┳━━━━━━━━━━━━━━━┓\n",
       "┃<span style=\"font-weight: bold\"> Layer (type)                    </span>┃<span style=\"font-weight: bold\"> Output Shape           </span>┃<span style=\"font-weight: bold\">       Param # </span>┃\n",
       "┡━━━━━━━━━━━━━━━━━━━━━━━━━━━━━━━━━╇━━━━━━━━━━━━━━━━━━━━━━━━╇━━━━━━━━━━━━━━━┩\n",
       "│ input_encoder (<span style=\"color: #0087ff; text-decoration-color: #0087ff\">InputLayer</span>)      │ (<span style=\"color: #00d7ff; text-decoration-color: #00d7ff\">None</span>, <span style=\"color: #00af00; text-decoration-color: #00af00\">50</span>, <span style=\"color: #00af00; text-decoration-color: #00af00\">57</span>)         │             <span style=\"color: #00af00; text-decoration-color: #00af00\">0</span> │\n",
       "├─────────────────────────────────┼────────────────────────┼───────────────┤\n",
       "│ lstm_encoder (<span style=\"color: #0087ff; text-decoration-color: #0087ff\">LSTM</span>)             │ (<span style=\"color: #00d7ff; text-decoration-color: #00d7ff\">None</span>, <span style=\"color: #00af00; text-decoration-color: #00af00\">32</span>)             │        <span style=\"color: #00af00; text-decoration-color: #00af00\">11,520</span> │\n",
       "└─────────────────────────────────┴────────────────────────┴───────────────┘\n",
       "</pre>\n"
      ],
      "text/plain": [
       "┏━━━━━━━━━━━━━━━━━━━━━━━━━━━━━━━━━┳━━━━━━━━━━━━━━━━━━━━━━━━┳━━━━━━━━━━━━━━━┓\n",
       "┃\u001b[1m \u001b[0m\u001b[1mLayer (type)                   \u001b[0m\u001b[1m \u001b[0m┃\u001b[1m \u001b[0m\u001b[1mOutput Shape          \u001b[0m\u001b[1m \u001b[0m┃\u001b[1m \u001b[0m\u001b[1m      Param #\u001b[0m\u001b[1m \u001b[0m┃\n",
       "┡━━━━━━━━━━━━━━━━━━━━━━━━━━━━━━━━━╇━━━━━━━━━━━━━━━━━━━━━━━━╇━━━━━━━━━━━━━━━┩\n",
       "│ input_encoder (\u001b[38;5;33mInputLayer\u001b[0m)      │ (\u001b[38;5;45mNone\u001b[0m, \u001b[38;5;34m50\u001b[0m, \u001b[38;5;34m57\u001b[0m)         │             \u001b[38;5;34m0\u001b[0m │\n",
       "├─────────────────────────────────┼────────────────────────┼───────────────┤\n",
       "│ lstm_encoder (\u001b[38;5;33mLSTM\u001b[0m)             │ (\u001b[38;5;45mNone\u001b[0m, \u001b[38;5;34m32\u001b[0m)             │        \u001b[38;5;34m11,520\u001b[0m │\n",
       "└─────────────────────────────────┴────────────────────────┴───────────────┘\n"
      ]
     },
     "metadata": {},
     "output_type": "display_data"
    },
    {
     "data": {
      "text/html": [
       "<pre style=\"white-space:pre;overflow-x:auto;line-height:normal;font-family:Menlo,'DejaVu Sans Mono',consolas,'Courier New',monospace\"><span style=\"font-weight: bold\"> Total params: </span><span style=\"color: #00af00; text-decoration-color: #00af00\">11,520</span> (45.00 KB)\n",
       "</pre>\n"
      ],
      "text/plain": [
       "\u001b[1m Total params: \u001b[0m\u001b[38;5;34m11,520\u001b[0m (45.00 KB)\n"
      ]
     },
     "metadata": {},
     "output_type": "display_data"
    },
    {
     "data": {
      "text/html": [
       "<pre style=\"white-space:pre;overflow-x:auto;line-height:normal;font-family:Menlo,'DejaVu Sans Mono',consolas,'Courier New',monospace\"><span style=\"font-weight: bold\"> Trainable params: </span><span style=\"color: #00af00; text-decoration-color: #00af00\">11,520</span> (45.00 KB)\n",
       "</pre>\n"
      ],
      "text/plain": [
       "\u001b[1m Trainable params: \u001b[0m\u001b[38;5;34m11,520\u001b[0m (45.00 KB)\n"
      ]
     },
     "metadata": {},
     "output_type": "display_data"
    },
    {
     "data": {
      "text/html": [
       "<pre style=\"white-space:pre;overflow-x:auto;line-height:normal;font-family:Menlo,'DejaVu Sans Mono',consolas,'Courier New',monospace\"><span style=\"font-weight: bold\"> Non-trainable params: </span><span style=\"color: #00af00; text-decoration-color: #00af00\">0</span> (0.00 B)\n",
       "</pre>\n"
      ],
      "text/plain": [
       "\u001b[1m Non-trainable params: \u001b[0m\u001b[38;5;34m0\u001b[0m (0.00 B)\n"
      ]
     },
     "metadata": {},
     "output_type": "display_data"
    },
    {
     "ename": "TypeError",
     "evalue": "Layer.__init__() takes 1 positional argument but 4 positional arguments (and 1 keyword-only argument) were given",
     "output_type": "error",
     "traceback": [
      "\u001b[1;31m---------------------------------------------------------------------------\u001b[0m",
      "\u001b[1;31mTypeError\u001b[0m                                 Traceback (most recent call last)",
      "Cell \u001b[1;32mIn[82], line 15\u001b[0m\n\u001b[0;32m     12\u001b[0m layer2 \u001b[38;5;241m=\u001b[39m LSTM(\u001b[38;5;241m32\u001b[39m,activation\u001b[38;5;241m=\u001b[39m\u001b[38;5;124m\"\u001b[39m\u001b[38;5;124mrelu\u001b[39m\u001b[38;5;124m\"\u001b[39m, return_sequences \u001b[38;5;241m=\u001b[39m \u001b[38;5;28;01mTrue\u001b[39;00m, name\u001b[38;5;241m=\u001b[39m\u001b[38;5;124m\"\u001b[39m\u001b[38;5;124mlstm_decoder\u001b[39m\u001b[38;5;124m\"\u001b[39m )(layer1)\n\u001b[0;32m     13\u001b[0m layer3 \u001b[38;5;241m=\u001b[39m TimeDistributed(Dense(nb_features))\n\u001b[1;32m---> 15\u001b[0m model_decoder \u001b[38;5;241m=\u001b[39m \u001b[43mModel\u001b[49m\u001b[43m(\u001b[49m\u001b[43mlayer1\u001b[49m\u001b[43m,\u001b[49m\u001b[43m \u001b[49m\u001b[43mlayer2\u001b[49m\u001b[43m,\u001b[49m\u001b[43m \u001b[49m\u001b[43mlayer3\u001b[49m\u001b[43m,\u001b[49m\u001b[43m \u001b[49m\u001b[43mname\u001b[49m\u001b[43m \u001b[49m\u001b[38;5;241;43m=\u001b[39;49m\u001b[43m \u001b[49m\u001b[38;5;124;43m'\u001b[39;49m\u001b[38;5;124;43mdecoder\u001b[39;49m\u001b[38;5;124;43m'\u001b[39;49m\u001b[43m)\u001b[49m\n\u001b[0;32m     16\u001b[0m model_decoder\u001b[38;5;241m.\u001b[39msummary()\n\u001b[0;32m     18\u001b[0m model_autoencoder \u001b[38;5;241m=\u001b[39m Model(inputs, encoded, layer1, layer2, layer3)\n",
      "File \u001b[1;32mc:\\Users\\Utilisateur\\anaconda3\\envs\\time_series_video\\Lib\\site-packages\\keras\\src\\models\\model.py:158\u001b[0m, in \u001b[0;36mModel.__init__\u001b[1;34m(self, *args, **kwargs)\u001b[0m\n\u001b[0;32m    156\u001b[0m     functional\u001b[38;5;241m.\u001b[39mFunctional\u001b[38;5;241m.\u001b[39m\u001b[38;5;21m__init__\u001b[39m(\u001b[38;5;28mself\u001b[39m, \u001b[38;5;241m*\u001b[39margs, \u001b[38;5;241m*\u001b[39m\u001b[38;5;241m*\u001b[39mkwargs)\n\u001b[0;32m    157\u001b[0m \u001b[38;5;28;01melse\u001b[39;00m:\n\u001b[1;32m--> 158\u001b[0m     \u001b[43mLayer\u001b[49m\u001b[38;5;241;43m.\u001b[39;49m\u001b[38;5;21;43m__init__\u001b[39;49m\u001b[43m(\u001b[49m\u001b[38;5;28;43mself\u001b[39;49m\u001b[43m,\u001b[49m\u001b[43m \u001b[49m\u001b[38;5;241;43m*\u001b[39;49m\u001b[43margs\u001b[49m\u001b[43m,\u001b[49m\u001b[43m \u001b[49m\u001b[38;5;241;43m*\u001b[39;49m\u001b[38;5;241;43m*\u001b[39;49m\u001b[43mkwargs\u001b[49m\u001b[43m)\u001b[49m\n",
      "\u001b[1;31mTypeError\u001b[0m: Layer.__init__() takes 1 positional argument but 4 positional arguments (and 1 keyword-only argument) were given"
     ]
    }
   ],
   "source": [
    "latent_dim = 32\n",
    "\n",
    "# Encoder\n",
    "inputs = Input(shape=(window_size, nb_features), name = \"input_encoder\")\n",
    "encoded = LSTM(latent_dim, activation=\"relu\", return_sequences = False, name = \"lstm_encoder\")(inputs)\n",
    "\n",
    "model_encoder = Model(inputs, encoded, name = \"encoder_before_training\")\n",
    "model_encoder.summary()\n",
    "\n",
    "# Decoder\n",
    "layer1 = RepeatVector(window_size)(encoded)\n",
    "layer2 = LSTM(32, activation = \"relu\", return_sequences = True, name=\"lstm_decoder\" )(layer1)\n",
    "layer3 = TimeDistributed(Dense(nb_features))\n",
    "\n",
    "model_decoder = Model(layer1, layer2, layer3, name = 'decoder')\n",
    "model_decoder.summary()\n",
    "\n",
    "model_autoencoder = Model(inputs, encoded, layer1, layer2, layer3)\n",
    "model_autoencoder.summary()"
   ]
  },
  {
   "cell_type": "code",
   "execution_count": null,
   "metadata": {},
   "outputs": [],
   "source": [
    "latent_dim = 32\n",
    "\n",
    "model = Sequential()\n",
    "model.add(LSTM(100, activation='relu', input_shape=(n_in, 1)))\n",
    "model.add(RepeatVector(latent_dim))\n",
    "#RepeatVector layer repeats the incoming inputs a specific number of time\n",
    "\n",
    "model.add(LSTM(100, activation='relu', return_sequences=True))\n",
    "model.add(TimeDistributed(Dense(1))) # This wrapper allows to apply a layer to every temporal slice of an input.\n",
    "model.compile(optimizer='adam', loss='mse')\n",
    "\n",
    "#fit model\n",
    "model.fit(X, X, epochs=30, verbose=1)"
   ]
  },
  {
   "cell_type": "code",
   "execution_count": null,
   "metadata": {},
   "outputs": [],
   "source": [
    "#define input sequence\n",
    "sequence = array([0.1, 0.2, 0.3, 0.4, 0.5, 0.6, 0.7, 0.8, 0.9])\n",
    "\n",
    "#reshape input into [samples, timesteps, features]\n",
    "n_in = len(sequence) #i.e. 9\n",
    "sequence = sequence.reshape((1, n_in, 1))\n",
    "\n",
    "model = Sequential()\n",
    "model.add(LSTM(100, activation='relu', input_shape=(n_in,1)))\n",
    "model.add(RepeatVector(n_in))\n",
    "#RepeatVector layer repeats the incoming inputs a specific number of time\n",
    "\n",
    "model.add(LSTM(100, activation='relu', return_sequences=True))\n",
    "model.add(TimeDistributed(Dense(1))) # This wrapper allows to apply a layer to every temporal slice of an input.\n",
    "model.compile(optimizer='adam', loss='mse')\n",
    "\n",
    "#fit model\n",
    "model.fit(sequence, sequence, epochs=300, verbose=1)\n",
    "\n",
    "#Reconstruct the input sequence\n",
    "p = model.predict(sequence, verbose=0)\n",
    "print(p[0,:,0])"
   ]
  },
  {
   "cell_type": "markdown",
   "metadata": {},
   "source": [
    "**Encodeur Code Bertrand**"
   ]
  },
  {
   "cell_type": "code",
   "execution_count": null,
   "metadata": {},
   "outputs": [],
   "source": [
    "# Encodeur\n",
    "inputs = Input(shape=(seq_length, n_features), name=\"input_encoder\")\n",
    "encoded = LSTM(latent_dim, activation=\"relu\", return_sequences=False, name=\"lstm_encoder\")(inputs)\n",
    "\n",
    "model_encoder = Model(inputs, encoded, name=\"encoder_before_training\")\n",
    "\n",
    "layer1 = RepeatVector(seq_length)(encoded)\n",
    "layer2 = LSTM(32,activation=\"relu\", return_sequences=True, name=\"lstm_decoder\" )(layer1)\n",
    "layer3 = model.add(TimeDistributed(Dense(nb_features)))\n",
    "\n",
    "model_decoder = Model(layer1, layer2, name = 'ff')"
   ]
  }
 ],
 "metadata": {
  "kernelspec": {
   "display_name": "time_series_video",
   "language": "python",
   "name": "python3"
  },
  "language_info": {
   "codemirror_mode": {
    "name": "ipython",
    "version": 3
   },
   "file_extension": ".py",
   "mimetype": "text/x-python",
   "name": "python",
   "nbconvert_exporter": "python",
   "pygments_lexer": "ipython3",
   "version": "3.12.7"
  }
 },
 "nbformat": 4,
 "nbformat_minor": 2
}
