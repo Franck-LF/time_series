{
 "cells": [
  {
   "cell_type": "markdown",
   "metadata": {},
   "source": [
    "# <center> **Brief Video**"
   ]
  },
  {
   "cell_type": "markdown",
   "metadata": {},
   "source": [
    "**Détection de mouvements répétitifs dans une vidéo - Déterminer le nombre de pompes**\n",
    "\n",
    "- OpenCV pour extraire chaque frame puis les soumettre à Mediapipe,<br>\n",
    "- Récupérer les landmarks (ou bien créer de nouvelles features en calculant l'angle entre 3 points),\n",
    "- Features engineering pour déceler les variables plsu les plus pertinentes,\n",
    "- Détecter les segments de vidéo où il y a un mouvement répétitif (étude de la stationnarité via un fenêtrage)\n",
    "\n",
    "\n",
    "**landmarks** : repères corporels -> points d'intérêts constituant le squelette."
   ]
  },
  {
   "cell_type": "markdown",
   "metadata": {},
   "source": [
    "## **Sources**\n",
    "\n",
    "\n",
    "**Remarque** : Run this notebook with environnement \"time_series_video\", in this env mediapipe was installed on python=3.12.7\n",
    "\n",
    "**OpenCV**<br>\n",
    "<code>pip install opencv-python</code><br>\n",
    "<code>import cv2</code><br>\n",
    "https://www.geeksforgeeks.org/opencv-python-tutorial/<br>\n",
    "https://www.tresfacile.net/la-bibliotheque-opencv-python/<br>\n",
    "<br>\n",
    "<br>\n",
    "\n",
    "\n",
    "**mediapipe**<br>\n",
    "https://ai.google.dev/edge/mediapipe/solutions/vision/pose_landmarker?hl=fr<br>\n",
    "<br>\n",
    "<br>\n",
    "<br>\n",
    "<br>\n",
    "\n",
    "\n"
   ]
  },
  {
   "cell_type": "markdown",
   "metadata": {},
   "source": [
    "## **Imports**"
   ]
  },
  {
   "cell_type": "code",
   "execution_count": null,
   "metadata": {},
   "outputs": [],
   "source": [
    "%reset"
   ]
  },
  {
   "cell_type": "code",
   "execution_count": 1,
   "metadata": {},
   "outputs": [],
   "source": [
    "import os\n",
    "import cv2\n",
    "import mediapipe as mp\n",
    "import csv\n",
    "import script\n",
    "\n",
    "# Path of the video\n",
    "video_path = \"videos/seq_a.mov\""
   ]
  },
  {
   "cell_type": "code",
   "execution_count": 3,
   "metadata": {},
   "outputs": [],
   "source": [
    "# CODE BERTRAND\n",
    "\n",
    "# Create an object \"VideoCapture\" with the video \n",
    "cap = cv2.VideoCapture(video_path)\n",
    "\n",
    "# cap.isOpened(): Returns true if video capturing has been initialized already\n",
    "while cap.isOpened():\n",
    "\n",
    "    # cap.read(): Grabs, decodes and returns the next video frame.\n",
    "    ret, frame = cap.read()\n",
    "\n",
    "    # If there is no more frame BREAK THE LOOP\n",
    "    if not ret:\n",
    "        break\n",
    "\n",
    "    # Display the frame\n",
    "    cv2.imshow(\"Video\", frame)\n",
    "\n",
    "    # waitkey(delay): wait for 'delay' milisec AND\n",
    "    # if a key is pressed during that time return the ASCII code of the key (we apply a mask)\n",
    "    # otherwise return -1\n",
    "    # \n",
    "    # the delay controls the speed of the video\n",
    "    if cv2.waitKey(5) & 0xFF == ord('q'):\n",
    "        break\n",
    "\n",
    "# Probably clean the memory of \"cap\" object\n",
    "cap.release()\n",
    "\n",
    "# Straight forward\n",
    "cv2.destroyAllWindows()"
   ]
  },
  {
   "cell_type": "markdown",
   "metadata": {},
   "source": [
    "## **Counting number of frames**"
   ]
  },
  {
   "cell_type": "code",
   "execution_count": null,
   "metadata": {},
   "outputs": [
    {
     "name": "stdout",
     "output_type": "stream",
     "text": [
      "512\n"
     ]
    }
   ],
   "source": [
    "cap = cv2.VideoCapture(video_path)\n",
    "length = int(cap.get(cv2.CAP_PROP_FRAME_COUNT))\n",
    "print(\"Nb frames:\", length)"
   ]
  },
  {
   "cell_type": "markdown",
   "metadata": {},
   "source": [
    "## **Drawing landmarks**"
   ]
  },
  {
   "cell_type": "markdown",
   "metadata": {},
   "source": [
    "Src: https://medium.com/@riddhisi238/real-time-pose-estimation-from-video-using-mediapipe-and-opencv-in-python-20f9f19c77a6<br>\n",
    "\n"
   ]
  },
  {
   "cell_type": "code",
   "execution_count": null,
   "metadata": {},
   "outputs": [
    {
     "ename": "",
     "evalue": "",
     "output_type": "error",
     "traceback": [
      "\u001b[1;31mThe Kernel crashed while executing code in the current cell or a previous cell. \n",
      "\u001b[1;31mPlease review the code in the cell(s) to identify a possible cause of the failure. \n",
      "\u001b[1;31mClick <a href='https://aka.ms/vscodeJupyterKernelCrash'>here</a> for more info. \n",
      "\u001b[1;31mView Jupyter <a href='command:jupyter.viewOutput'>log</a> for further details."
     ]
    }
   ],
   "source": [
    "# Initialize MediaPipe Pose and Drawing utilities\n",
    "mp_pose = mp.solutions.pose\n",
    "mp_drawing = mp.solutions.drawing_utils\n",
    "pose = mp_pose.Pose()\n",
    "\n",
    "# Open the video file\n",
    "cap = cv2.VideoCapture(video_path)\n",
    "\n",
    "frame_number = 0\n",
    "# csv_data = []\n",
    "\n",
    "while cap.isOpened():\n",
    "    ret, frame = cap.read()\n",
    "    if not ret:\n",
    "        break\n",
    "\n",
    "    # Convert the frame to RGB\n",
    "    frame_rgb = cv2.cvtColor(frame, cv2.COLOR_BGR2RGB)\n",
    "\n",
    "    # Process the frame with MediaPipe Pose\n",
    "    result = pose.process(frame_rgb)\n",
    "\n",
    "    # Draw the pose landmarks on the frame\n",
    "    if result.pose_landmarks:\n",
    "        mp_drawing.draw_landmarks(frame, result.pose_landmarks, mp_pose.POSE_CONNECTIONS)\n",
    "\n",
    "        # Add the landmark coordinates to the list and print them\n",
    "        # write_landmarks_to_csv(result.pose_landmarks.landmark, frame_number, csv_data)\n",
    "\n",
    "    # Display the frame\n",
    "    cv2.imshow('MediaPipe Pose', frame)\n",
    "\n",
    "    df = pd.DataFrame(csv_data)\n",
    "    df.to_csv('landmarks.csv')"
   ]
  },
  {
   "cell_type": "code",
   "execution_count": 4,
   "metadata": {},
   "outputs": [],
   "source": [
    "cap = cv2.VideoCapture(video_path)\n",
    "\n",
    "for i in range(10):\n",
    "    if not(cap.isOpened()):\n",
    "        break\n",
    "\n",
    "    ret, frame = cap.read()\n",
    "    if not ret:\n",
    "        break\n",
    "\n",
    "    cv2.imshow(\"Video\", frame)\n",
    "    if cv2.waitKey(5) & 0xFF == ord('q'):\n",
    "        break\n",
    "\n",
    "cap.release()\n",
    "cv2.destroyAllWindows()"
   ]
  },
  {
   "cell_type": "code",
   "execution_count": null,
   "metadata": {},
   "outputs": [],
   "source": []
  }
 ],
 "metadata": {
  "kernelspec": {
   "display_name": "time_series_video",
   "language": "python",
   "name": "python3"
  },
  "language_info": {
   "codemirror_mode": {
    "name": "ipython",
    "version": 3
   },
   "file_extension": ".py",
   "mimetype": "text/x-python",
   "name": "python",
   "nbconvert_exporter": "python",
   "pygments_lexer": "ipython3",
   "version": "3.12.7"
  }
 },
 "nbformat": 4,
 "nbformat_minor": 2
}
