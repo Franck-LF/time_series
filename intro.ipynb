{
 "cells": [
  {
   "cell_type": "markdown",
   "metadata": {},
   "source": [
    "# <center> **Séries temporelles**"
   ]
  },
  {
   "cell_type": "markdown",
   "metadata": {},
   "source": [
    "3 **composantes** d'une série temporelle :\n",
    "- Tendance : orientation générale de la série\n",
    "- Saisonnalité : tendances hebdomadaires, mensuelles ...\n",
    "- Bruit : ce qui reste après avoir extrait les composants précédents\n",
    "\n",
    "**Bruit blanc** : ce qu'i lreste lorsqu'on retire à une série temporelle sa tendance et sa saisonnalité (loi normale).\n",
    "\n",
    "**Série stationnaire** : qui possède des propriétés statistiques qui ne varient pas au fil du temps.\n",
    "\n",
    "**Détection de saisonnalité** :\n",
    "fonction d'autocorrélation (CAF), fonction d'autocorrélation partielle (PACF)"
   ]
  },
  {
   "cell_type": "markdown",
   "metadata": {},
   "source": [
    "**Introduction à l'ACF et la PACF**\n",
    "\n",
    "La fonction d'auto-corrélation $\\gamma(\\tau)$ (*AutoCorrleation Function*), ACF permet d'avoir un indice de dépendance linéaire entre a série $\\{x_t\\}$ à un intant $t$ et $\\{x_{t+\\tau}\\}$ pour un décalage de $\\tau$.\n",
    "\n",
    "La fonction d'auto-corrélation parielle $\\phi(\\tau)$ (Partial AutoCoreelation function), PACF, donne la corrélation entre $x_t$ et $x_{t-\\tau}$ après avoir retiré toute dépendance en $(x_{t-1},\\cdots,x_{t-\\tau+1})$"
   ]
  },
  {
   "cell_type": "markdown",
   "metadata": {},
   "source": [
    "## **ARMA**"
   ]
  },
  {
   "cell_type": "markdown",
   "metadata": {},
   "source": [
    "(Autoregressive Moving Average) combine à la fois des termes auaorégressifs (AR) et des termes moyens mobiles (MA) pour modéliser une série temporelle.\n",
    "\n",
    "Modèle autorégressif :<br>\n",
    "utilise les valeurs passées pour prédire les valeurs futures.\n",
    "\n",
    "Modèle moyenne mobile :<br>\n",
    "utilise les erreurs passées du modèle pour prédire les valeurs futures.\n",
    "\n",
    "Les modèles **ARMA** fonctionnent bien pour des séries stationnaires, sinon on les rend stationnaire ou on utilise ARIMA"
   ]
  },
  {
   "cell_type": "markdown",
   "metadata": {},
   "source": [
    "## **ARIMA**"
   ]
  },
  {
   "cell_type": "markdown",
   "metadata": {},
   "source": [
    "(Autoregressive Integrated Moving Average) Extension du modèle ARMA qui prend également compte de la diffférenciaiton des données pour rendre la série stationnaires\n",
    "\n",
    "ARIMA es défini par 3 paramètres :\n",
    "p correspond à l'ordre du modèle autorégressif\n",
    "d correspond au nombre d edifférenciations\n",
    "q correspond à l'ordre du modèle de moyenne mobile\n"
   ]
  },
  {
   "cell_type": "markdown",
   "metadata": {},
   "source": [
    "## **SARIMA**"
   ]
  },
  {
   "cell_type": "markdown",
   "metadata": {},
   "source": [
    "(Seasonal ARIMA) extension de ARIMA qui prend en compte la saisonnalité des données.\n",
    "\n",
    "défini par 4 paramètres supplémentaires : P, D, Q, s\n",
    "\n",
    "PDQ sont les ordres des termes saisonniers et s est la période saisonnière"
   ]
  },
  {
   "cell_type": "markdown",
   "metadata": {},
   "source": [
    "Ce sont 3 modèles puissants, vieux et légers, pour analyser et prédire des séries temporelles.\n",
    "\n",
    "XGBoost fonctionne pour les séries temporelles (il faut transformer les séries temporelles en données tabulaires)\n",
    "XGBoost est basé sur les arbres (combinaisons de classifieurs faibles basés sur des arbres)"
   ]
  },
  {
   "cell_type": "markdown",
   "metadata": {},
   "source": [
    "## **RNN et LSTM**"
   ]
  },
  {
   "cell_type": "markdown",
   "metadata": {},
   "source": [
    "Remarque :<br>\n",
    "\n",
    "Il y a aussi des modèles de fondation pour les RNN (comme VGG16 pour les CNN), on pourra ensuite les fine-tuner\n"
   ]
  },
  {
   "cell_type": "markdown",
   "metadata": {},
   "source": [
    "# <center> **Veille d'intro**"
   ]
  },
  {
   "cell_type": "markdown",
   "metadata": {},
   "source": [
    "**Définitions**\n",
    "La création de modèles autorégressifs et de modèles à moyenne mobile sont deux approches différentes du forecasting des données de séries temporelles.\n",
    "ARIMA intègre ces deux approches, d’où son nom. Le forecasting est une branche du machine learning qui utilise le comportement passé d’une série temporelle pour prédire la ou les valeurs futures de cette série temporelle.\n",
    "\n",
    "voir document : [Brief Time series  - Sujets de veille.docx](<Brief Time series  - Sujets de veille.docx>)"
   ]
  },
  {
   "cell_type": "markdown",
   "metadata": {},
   "source": [
    "## **Les Métriques**\n"
   ]
  },
  {
   "cell_type": "markdown",
   "metadata": {},
   "source": [
    "\n",
    "Pour comparer 2 séries on peut utiliser :\n",
    "\n",
    "#### **les distances l1, l2**\n",
    "**Avantages** :<br>\n",
    "- rapide à implémenter\n",
    "- facile à interpréter\n",
    "\n",
    "**Inconvénients** :<br>\n",
    "- information point par point : pas de notion de forme\n",
    "- il faut faire un prétraitement (changement d'échelle)\n",
    "\n",
    "#### **La cross correlation**\n",
    "\n",
    "C'est une information de dépendance linéaire, fonctionne par fenêtre glissante et fait donc une comparaison de forme\n",
    "\n",
    "**Avantages** :<br>\n",
    "- prend en compte la forme\n",
    "- facile à interpréter\n",
    "\n",
    "**Inconvénients** :<br>\n",
    "- nécessite un nombre d'échantillons assez grand\n",
    "- complexité quadratique\n",
    "- problème auw bords : nécessite du padding\n",
    "- il faut faire un prétraitement (changement d'échelle)\n",
    "\n",
    "#### **Dynamic Time Warping**\n",
    "\n",
    "**Intuition** : Relier chaque point avec son plus proche voisin dans la série comparée pour\n",
    "calculer une \"distance\"\n",
    "\n",
    "![DTW](images/DTW_small.png)\n",
    "\n",
    "**Avantages** :<br>\n",
    "- prend en compte les informations de forme et de distance\n",
    "\n",
    "**Inconvénients** : <br>\n",
    "\n"
   ]
  },
  {
   "cell_type": "markdown",
   "metadata": {},
   "source": [
    "## **Les modèles**"
   ]
  },
  {
   "cell_type": "markdown",
   "metadata": {},
   "source": [
    "### **Feed Forward Network ou Convolutional Neural Networks**\n",
    "sous-séquence de taille τ fixe {xt}T −τ≤t≤T en entrée\n",
    "\n",
    "### **Recurrent Neural Networks**\n",
    "\n",
    "le modèle conserve un vecteur d’état en mémoire\n",
    "\n",
    "### **Modèles attentionnels**\n",
    "toute l’information passée est utilisée pour biaiser les prédictions\n",
    "\n"
   ]
  },
  {
   "cell_type": "markdown",
   "metadata": {},
   "source": [
    "## **Sources**"
   ]
  },
  {
   "cell_type": "markdown",
   "metadata": {},
   "source": [
    "\n",
    "**LeCnam** :<br>\n",
    "https://par.moodle.lecnam.net/pluginfile.php/1484008/mod_resource/content/6/Cours_TS1.pdf<br>\n",
    "https://par.moodle.lecnam.net/pluginfile.php/1484014/mod_resource/content/5/Cours_TS2.pdf<br>\n",
    "\n",
    "**Medium** :<br>\n",
    "https://medium.com/analytics-vidhya/assessment-of-accuracy-metrics-for-time-series-forecasting-bc115b655705<br>\n",
    "https://medium.com/@huntresselle/deep-learning-techniques-for-time-series-forecasting-a-comprehensive-guide-f4c539d19342<br>\n",
    "\n",
    "**Wikipedia** :<br>\n",
    "https://fr.wikipedia.org/wiki/S%C3%A9rie_temporelle<br>\n",
    "\n",
    "\n",
    "\n",
    "\n"
   ]
  },
  {
   "cell_type": "markdown",
   "metadata": {},
   "source": []
  }
 ],
 "metadata": {
  "language_info": {
   "name": "python"
  }
 },
 "nbformat": 4,
 "nbformat_minor": 2
}
