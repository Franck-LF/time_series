{
 "cells": [
  {
   "cell_type": "markdown",
   "metadata": {},
   "source": [
    "# <center> **FFT with DeepSeek**"
   ]
  },
  {
   "cell_type": "code",
   "execution_count": 1,
   "metadata": {},
   "outputs": [
    {
     "name": "stdout",
     "output_type": "stream",
     "text": [
      "Fréquence dominante: 50.0 Hz\n",
      "Période: 0.02 secondes\n"
     ]
    },
    {
     "data": {
      "image/png": "[encoded data removed]",
      "text/plain": [
       "<Figure size 640x480 with 1 Axes>"
      ]
     },
     "metadata": {},
     "output_type": "display_data"
    }
   ],
   "source": [
    "import numpy as np\n",
    "from scipy.fft import fft\n",
    "import matplotlib.pyplot as plt\n",
    "\n",
    "# Exemple de signal\n",
    "fs = 1000  # Fréquence d'échantillonnage (Hz)\n",
    "T = 1.0 / fs  # Période d'échantillonnage\n",
    "t = np.linspace(0.0, 1.0, fs, endpoint=False)  # Temps\n",
    "f0 = 50  # Fréquence du signal (Hz)\n",
    "signal = np.sin(2.0 * np.pi * f0 * t)  # Signal sinusoïdal\n",
    "\n",
    "# Calcul de la FFT\n",
    "N = len(signal)\n",
    "yf = fft(signal)\n",
    "xf = np.fft.fftfreq(N, T)[:N//2]  # Fréquences correspondantes\n",
    "\n",
    "# Trouver la fréquence dominante (en ignorant la composante DC)\n",
    "magnitude = 2.0/N * np.abs(yf[:N//2])\n",
    "dominant_frequency = xf[np.argmax(magnitude[1:]) + 1]  # Ignorer la composante DC\n",
    "\n",
    "# Calculer la période\n",
    "period = 1.0 / dominant_frequency\n",
    "\n",
    "print(f\"Fréquence dominante: {dominant_frequency} Hz\")\n",
    "print(f\"Période: {period} secondes\")\n",
    "\n",
    "# Visualisation\n",
    "plt.plot(xf, magnitude)\n",
    "plt.title('Spectre de magnitude')\n",
    "plt.xlabel('Fréquence (Hz)')\n",
    "plt.ylabel('Magnitude')\n",
    "plt.grid()\n",
    "plt.show()"
   ]
  },
  {
   "cell_type": "markdown",
   "metadata": {},
   "source": [
    "**Objectif du code**<br>\n",
    "Le but de ce code est de déterminer la période d'un signal en utilisant la Transformée de Fourier Rapide (FFT). La FFT est un outil mathématique qui permet de décomposer un signal en ses fréquences constitutives. En trouvant la fréquence dominante, on peut ensuite calculer la période du signal.\n",
    "\n",
    "1. <code>fs = 1000</code> : La fréquence d'échantillonnage est fixée à 1000 Hz. Cela signifie que le signal est échantillonné 1000 fois par seconde.\n",
    "\n",
    "2. <code>T = 1.0 / fs</code> : La période d'échantillonnage est l'inverse de la fréquence d'échantillonnage.<br> Ici, \n",
    "$ T=1/1000=0.001=0.001$ seconde.\n",
    "\n",
    "3. <code>t = np.linspace(0.0, 1.0, fs, endpoint=False)</code> : On crée un tableau de temps t allant de 0 à 1 seconde, avec fs points. endpoint=False exclut le point final pour éviter de dupliquer le premier point.\n",
    "\n",
    "4. <code>f0 = 50</code> : La fréquence du signal est fixée à 50 Hz. C'est la fréquence du signal sinusoïdal que nous allons analyser.\n",
    "\n",
    "5. <code>signal = np.sin(2.0 * np.pi * f0 * t)</code> : On génère un signal sinusoïdal de fréquence \n",
    "$f0=50$ Hz. La formule $sin(2 \\pi f t)$ est utilisée pour créer une sinusoïde.\n",
    "\n",
    "6. <code>N = len(signal)</code> : On détermine la longueur du signal (ici, $N=1000$).\n",
    "\n",
    "7. <code>yf = fft(signal)</code> : On calcule la FFT du signal. La FFT retourne un tableau de nombres complexes représentant les amplitudes et phases des fréquences constitutives du signal.\n",
    "\n",
    "8. <code>xf = np.fft.fftfreq(N, T)[:N//2]</code> : On calcule les fréquences correspondantes à la FFT.<br> <code>np.fft.fftfreq</code> génère les fréquences associées à chaque point de la FFT. On ne garde que la première moitié des fréquences <code>([:N//2])</code> car la FFT est symétrique pour un signal réel.\n",
    "\n",
    "9. <code>magnitude = 2.0/N * np.abs(yf[:N//2])</code> : On calcule la magnitude de la FFT. La magnitude est normalisée en divisant par \n",
    "$N$ et multipliée par 2 (car on ne garde que la moitié du spectre). <code>np.abs</code> permet d'obtenir l'amplitude des nombres complexes.\n",
    "\n",
    "10. <code>dominant_frequency = xf[np.argmax(magnitude[1:]) + 1]</code> :\n",
    "\n",
    "- <code>magnitude[1:]</code> : On ignore la première valeur (la composante DC, c'est-à-dire la fréquence 0 Hz).\n",
    "\n",
    "- <code>np.argmax(magnitude[1:])</code> : On trouve l'indice de la fréquence dominante (celle qui a la plus grande amplitude).\n",
    "\n",
    "- <code>xf[...]</code> : On utilise cet indice pour trouver la fréquence correspondante dans le tableau xf.\n",
    "\n",
    "11. La période est l'inverse de la fréquence dominante. Si la fréquence dominante est $f$, alors la période $T=1/f$.\n",
    "\n",
    "12. On affiche la fréquence dominante et la période calculée. Puis on affiche le spectre.\n",
    "\n",
    "**Pourquoi ignorer la composante DC** ?<br>\n",
    "La composante DC (fréquence 0 Hz) correspond à la valeur moyenne du signal. Dans un signal sinusoïdal pur, cette valeur est souvent nulle ou très faible. En l'ignorant, on s'assure de ne pas la confondre avec la fréquence dominante.\n"
   ]
  },
  {
   "cell_type": "code",
   "execution_count": null,
   "metadata": {},
   "outputs": [],
   "source": []
  }
 ],
 "metadata": {
  "kernelspec": {
   "display_name": "time_series_video",
   "language": "python",
   "name": "python3"
  },
  "language_info": {
   "codemirror_mode": {
    "name": "ipython",
    "version": 3
   },
   "file_extension": ".py",
   "mimetype": "text/x-python",
   "name": "python",
   "nbconvert_exporter": "python",
   "pygments_lexer": "ipython3",
   "version": "3.12.7"
  }
 },
 "nbformat": 4,
 "nbformat_minor": 2
}
